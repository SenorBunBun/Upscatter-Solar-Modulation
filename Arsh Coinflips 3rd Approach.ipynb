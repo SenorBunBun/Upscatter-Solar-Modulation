{
 "cells": [
  {
   "cell_type": "markdown",
   "metadata": {
    "collapsed": true,
    "pycharm": {
     "name": "#%% md\n"
    }
   },
   "source": [
    "# Coin Toss\n",
    "Importing Necessary Packages"
   ]
  },
  {
   "cell_type": "code",
   "execution_count": 27,
   "metadata": {
    "pycharm": {
     "name": "#%%\n"
    }
   },
   "outputs": [],
   "source": [
    "import numpy as np\n",
    "from matplotlib import pyplot as plt"
   ]
  },
  {
   "cell_type": "markdown",
   "metadata": {
    "pycharm": {
     "name": "#%% md\n"
    }
   },
   "source": [
    "### Generating Data\n",
    "\n",
    "Choosing a random $p$ from 1.00 to 0.00 to generate the post coffee data or night-time data and use a $p = 0.5$ to generate the\n",
    "data before the coffee data.\n",
    "\n",
    "Setting a z-value for a $95$% upper confidence interval for calculations which is $ z_{\\alpha} = 1.6545$ <sup> [1] </sup>\n",
    "\n",
    "<sub> [1] <a href=\"https://sphweb.bumc.bu.edu/otlt/mph-modules/bs/bs704_hypothesistest-means-proportions/bs704_hypothesistest-means-proportions3.html\"> Confidence Limit Numbers</sub>"
   ]
  },
  {
   "cell_type": "code",
   "execution_count": 31,
   "metadata": {
    "pycharm": {
     "name": "#%%\n"
    }
   },
   "outputs": [],
   "source": [
    "N = 100\n",
    "p1 = 0.5\n",
    "z95 = 1.645\n",
    "p2 = round(np.random.uniform(0.00, 1.00), 2)\n",
    "\n",
    "precof = np.random.binomial(N, p1)\n",
    "postcof = np.random.binomial(N, p2)"
   ]
  },
  {
   "cell_type": "markdown",
   "metadata": {},
   "source": [
    "### Answering the questions of:\n",
    "\n",
    "#### What is the largest possible “weight” that the day-time coins could have given the day-time data?\n",
    "#### What is the largest possible “weight” that the night time coins could have given the night-time data?\n",
    "\n",
    "<br>\n",
    "\n",
    "Having $N=100$ . At number of trials of $N>15$ and $ p\\geq 0.1$, you can approximate a binomial distribution if the probability isn't\n",
    "small you can use a normal curve to approximate it according to the Central Limit Theorem<sup>[2]</sup>.\n",
    "\n",
    "Using this fact, we can use Wilson's Method for large samples to calculate a max $p$ for a given $ z_{\\alpha}$  and trials. (Wilson's method is too long to type).\n",
    "\n",
    "We could also use the Wald Method ( $ \\check{p} + z_{\\alpha} \\sqrt{\\frac{\\check{p}(1-\\check{p})}{n}}$ ). However, it takes very large samples to be\n",
    "accurate <sup>[3]</sup>\n",
    "\n",
    "<sub> [2] <a href=\"https://www.statisticshowto.com/binomial-confidence-interval/\"> Binomial Confidence Intervals</a> &nbsp; [3] <a href=\"https://www.mwsug.org/proceedings/2008/pharma/MWSUG-2008-P08.pdf\"> Confidence Interval Calculation </sub>"
   ]
  },
  {
   "cell_type": "code",
   "execution_count": 29,
   "metadata": {
    "pycharm": {
     "name": "#%%\n"
    }
   },
   "outputs": [],
   "source": [
    "def wilson(heads, N, zalpha):\n",
    "    pE = heads/N   #The Unbiased Point Estimator for this problem\n",
    "    q = 1 - pE\n",
    "    zsquare = zalpha ** 2\n",
    "    maxweight95 = (pE + zsquare/(2*N) + zalpha * (  ( (pE*q)/N + zsquare/(4*(N**2)) ) ** 0.5)  ) / (1 + zsquare/N)\n",
    "    return maxweight95"
   ]
  },
  {
   "cell_type": "markdown",
   "metadata": {
    "pycharm": {
     "name": "#%% md\n"
    }
   },
   "source": [
    "Using Wilson's method on $F_{day}$ and $F_{night}$ for a $z$ of an $\\alpha = 95$% confidence interval and then rounding to the $ 10^{-6}$ place."
   ]
  },
  {
   "cell_type": "code",
   "execution_count": 33,
   "outputs": [
    {
     "name": "stdout",
     "output_type": "stream",
     "text": [
      "The Largest Possible 'weight' the day-time coins could have given the day-time data is 0.54196\n",
      "The Largest Possible 'weight' the night-time coins could have given the night-time data is 0.760232\n"
     ]
    }
   ],
   "source": [
    "print(\"The Largest Possible 'weight' the day-time coins could have given the day-time data is \" + str( np.round(wilson(precof, N, z95), decimals=6) ))\n",
    "print(\"The Largest Possible 'weight' the night-time coins could have given the night-time data is \" + str( np.round(wilson(postcof, N, z95), decimals=6) ))\n"
   ],
   "metadata": {
    "collapsed": false,
    "pycharm": {
     "name": "#%%\n"
    }
   }
  }
 ],
 "metadata": {
  "kernelspec": {
   "display_name": "Python 3",
   "language": "python",
   "name": "python3"
  },
  "language_info": {
   "codemirror_mode": {
    "name": "ipython",
    "version": 3
   },
   "file_extension": ".py",
   "mimetype": "text/x-python",
   "name": "python",
   "nbconvert_exporter": "python",
   "pygments_lexer": "ipython3",
   "version": "3.8.5"
  }
 },
 "nbformat": 4,
 "nbformat_minor": 1
}