{
 "cells": [
  {
   "cell_type": "code",
   "execution_count": 1,
   "metadata": {
    "pycharm": {
     "name": "#%%\n"
    }
   },
   "outputs": [],
   "source": [
    "import numpy as np\n",
    "from matplotlib import pyplot as plt\n",
    "from scipy.optimize import minimize\n",
    "import scipy.stats\n"
   ]
  },
  {
   "cell_type": "code",
   "execution_count": 16,
   "metadata": {
    "pycharm": {
     "name": "#%%\n"
    }
   },
   "outputs": [],
   "source": [
    "N = 100\n",
    "p1 = 0.5\n",
    "p2 = round(np.random.uniform(0.0, 1.0), 2)\n",
    "\n",
    "precof = np.random.binomial(N, p1, size=100)\n",
    "postcof = np.random.binomial(N, p1, size=100)"
   ]
  },
  {
   "cell_type": "code",
   "execution_count": 17,
   "metadata": {
    "pycharm": {
     "name": "#%%\n"
    }
   },
   "outputs": [],
   "source": [
    "def MLE(para):\n",
    " intercept, beta, sd = para[0], para[1], para[2]\n",
    " postcof1 = intercept + beta*precof\n",
    "\n",
    " neglog = -np.sum(scipy.stats.norm.logpdf(postcof, loc=postcof1, scale=sd) )\n",
    " return(neglog)"
   ]
  },
  {
   "cell_type": "code",
   "execution_count": 18,
   "metadata": {
    "pycharm": {
     "name": "#%%\n"
    }
   },
   "outputs": [
    {
     "name": "stdout",
     "output_type": "stream",
     "text": [
      "Optimization terminated successfully.\n",
      "         Current function value: 302.253874\n",
      "         Iterations: 181\n",
      "         Function evaluations: 329\n"
     ]
    }
   ],
   "source": [
    "guess = np.array([5,5,2])\n",
    "results = minimize(MLE, guess, method = 'Nelder-Mead', options={'disp': True})"
   ]
  },
  {
   "cell_type": "code",
   "execution_count": 19,
   "metadata": {
    "pycharm": {
     "name": "#%%\n"
    }
   },
   "outputs": [
    {
     "data": {
      "text/plain": " final_simplex: (array([[4.94790664e+01, 2.72657001e-02, 4.97089519e+00],\n       [4.94791411e+01, 2.72643738e-02, 4.97089549e+00],\n       [4.94791593e+01, 2.72638612e-02, 4.97089733e+00],\n       [4.94791001e+01, 2.72650864e-02, 4.97088919e+00]]), array([302.25387377, 302.25387377, 302.25387377, 302.25387377]))\n           fun: 302.2538737700958\n       message: 'Optimization terminated successfully.'\n          nfev: 329\n           nit: 181\n        status: 0\n       success: True\n             x: array([4.94790664e+01, 2.72657001e-02, 4.97089519e+00])"
     },
     "execution_count": 19,
     "metadata": {},
     "output_type": "execute_result"
    }
   ],
   "source": [
    "results"
   ]
  },
  {
   "cell_type": "code",
   "execution_count": 20,
   "metadata": {
    "pycharm": {
     "name": "#%%\n"
    }
   },
   "outputs": [
    {
     "data": {
      "text/plain": "302.2538737700954"
     },
     "execution_count": 20,
     "metadata": {},
     "output_type": "execute_result"
    }
   ],
   "source": [
    "MLE([4.94790664e+01,2.72657001e-02, 4.97089519e+00])\n"
   ]
  }
 ],
 "metadata": {
  "kernelspec": {
   "display_name": "Python 3",
   "language": "python",
   "name": "python3"
  },
  "language_info": {
   "codemirror_mode": {
    "name": "ipython",
    "version": 3
   },
   "file_extension": ".py",
   "mimetype": "text/x-python",
   "name": "python",
   "nbconvert_exporter": "python",
   "pygments_lexer": "ipython3",
   "version": "3.8.5"
  }
 },
 "nbformat": 4,
 "nbformat_minor": 4
}