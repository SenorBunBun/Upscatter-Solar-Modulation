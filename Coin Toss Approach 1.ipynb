{
 "cells": [
  {
   "cell_type": "code",
   "execution_count": 1,
   "outputs": [],
   "source": [
    "import numpy as np\n",
    "from scipy.stats import binom\n",
    "import scipy.stats\n",
    "from os.path import basename, exists\n",
    "import pandas as pd\n"
   ],
   "metadata": {
    "collapsed": false,
    "pycharm": {
     "name": "#%%\n"
    }
   }
  },
  {
   "cell_type": "code",
   "execution_count": 2,
   "metadata": {
    "collapsed": true,
    "pycharm": {
     "name": "#%%\n"
    }
   },
   "outputs": [],
   "source": [
    "N = 20\n",
    "p1 = 0.5\n",
    "p2 = round(np.random.uniform(0.0, 1.0), 2)\n",
    "\n",
    "precof = np.random.binomial(N, p1)\n",
    "postcof = np.random.binomial(N, p2)"
   ]
  },
  {
   "cell_type": "code",
   "execution_count": 3,
   "outputs": [
    {
     "name": "stdout",
     "output_type": "stream",
     "text": [
      "7\n",
      "0.046879759289001406\n",
      "0.07392883300781268\n"
     ]
    }
   ],
   "source": [
    "print(postcof)\n",
    "xs = np.arange(101) / 100\n",
    "uniform = pd.Series(1, index=xs)\n",
    "uniform /= uniform.sum()\n",
    "\n",
    "like_fair = binom.pmf(postcof, N, p1)\n",
    "\n",
    "biased_uniform = uniform.copy()\n",
    "biased_uniform[50] = 0\n",
    "biased_uniform /= biased_uniform.sum()\n",
    "xs = biased_uniform.index\n",
    "\n",
    "likelihood = binom.pmf(postcof, N, xs)\n",
    "like_uniform = np.sum(biased_uniform * likelihood)\n",
    "\n",
    "print(like_uniform)\n",
    "print(like_fair)"
   ],
   "metadata": {
    "collapsed": false,
    "pycharm": {
     "name": "#%%\n"
    }
   }
  },
  {
   "cell_type": "code",
   "execution_count": 4,
   "outputs": [
    {
     "name": "stdout",
     "output_type": "stream",
     "text": [
      "19.658399448928904\n"
     ]
    }
   ],
   "source": [
    "print ( ((like_fair/like_uniform)/8.02195686179331)*100 )"
   ],
   "metadata": {
    "collapsed": false,
    "pycharm": {
     "name": "#%%\n"
    }
   }
  },
  {
   "cell_type": "code",
   "execution_count": 5,
   "outputs": [
    {
     "data": {
      "text/plain": "8.02195686179331"
     },
     "execution_count": 5,
     "metadata": {},
     "output_type": "execute_result"
    }
   ],
   "source": [
    "8.02195686179331"
   ],
   "metadata": {
    "collapsed": false,
    "pycharm": {
     "name": "#%%\n"
    }
   }
  }
 ],
 "metadata": {
  "kernelspec": {
   "display_name": "Python 3",
   "language": "python",
   "name": "python3"
  },
  "language_info": {
   "codemirror_mode": {
    "name": "ipython",
    "version": 2
   },
   "file_extension": ".py",
   "mimetype": "text/x-python",
   "name": "python",
   "nbconvert_exporter": "python",
   "pygments_lexer": "ipython2",
   "version": "2.7.6"
  }
 },
 "nbformat": 4,
 "nbformat_minor": 0
}
