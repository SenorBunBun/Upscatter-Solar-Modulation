{
 "cells": [
  {
   "cell_type": "code",
   "execution_count": 1,
   "metadata": {
    "collapsed": true
   },
   "outputs": [],
   "source": [
    "import pandas as kfp\n",
    "import scipy.interpolate\n",
    "import datautilities\n",
    "import numpy as np\n",
    "import matplotlib.pyplot as plt\n",
    "from matplotlib import ticker, cm"
   ]
  },
  {
   "cell_type": "code",
   "execution_count": 2,
   "outputs": [],
   "source": [
    "unprocessedSig = kfp.read_csv(\"Signal Data/rateTable.csv\", header=None)\n",
    "dipoletoAmplitude = { }\n",
    "\n",
    "for index in range(len(unprocessedSig)):\n",
    "    dipoletoAmplitude[ unprocessedSig[1][index] ] = unprocessedSig[2][index]\n",
    "numofmasses = 11\n",
    "fulldict = {}\n",
    "\n",
    "for index in range(1, int(len(unprocessedSig[0])/numofmasses) + 1 ):\n",
    "    # print(index*numofmasses)\n",
    "    fulldict[ unprocessedSig[0][index*numofmasses - 1] ] = dipoletoAmplitude\n",
    "\n",
    "# print(fulldict[0.05][5.016891464581947e-12])\n",
    "\n",
    "# print(datautilities.signalintegral(1, 6, 18))\n",
    "\n",
    "# [X, Y] = np.meshgrid(unprocessedSig[0][0:4], unprocessedSig[1][0:4])\n",
    "[X, Y] = np.meshgrid(unprocessedSig[0], unprocessedSig[1])\n",
    "# print(\"X, Y\")\n",
    "# print(X)\n",
    "# print(\"X End\")\n",
    "# print(Y)\n",
    "\n",
    "#pol.griddata([unprocessedSig[0], unprocessedSig[1]], unprocessedSig[2], (X, Y), method='nearest')\n",
    "\n",
    "massarray = np.array(unprocessedSig[0])\n",
    "dipolearray = np.array(unprocessedSig[1])\n",
    "amplitudearray = np.array(unprocessedSig[2])\n",
    "\n",
    "# def f(x, y):\n",
    "#    return x + y\n",
    "# print(\"F(x)\")\n",
    "# print(array)\n",
    "# print(f(array, array))\n",
    "\n",
    "# print(np.random.choice(unprocessedSig[0][0:4], len(unprocessedSig[0][0:4])))\n",
    "dailyrate = []\n",
    "# print(datautilities.signalintegral(1, 6, 32))\n",
    "for data in range( len(unprocessedSig[2]) ):\n",
    "    temprate = datautilities.signalintegral(unprocessedSig[2][data], 6, 32)[0]\n",
    "    # print(temprate)\n",
    "    dailyrate.append(temprate)\n",
    "\n",
    "dailyratearray = np.array(dailyrate)\n",
    "# print(dailyratearray)\n"
   ],
   "metadata": {
    "collapsed": false,
    "pycharm": {
     "name": "#%%\n"
    }
   }
  },
  {
   "cell_type": "code",
   "execution_count": 3,
   "outputs": [
    {
     "name": "stderr",
     "output_type": "stream",
     "text": [
      "<ipython-input-3-f9cd5cf76bf0>:2: UserWarning: Log scale: values of z <= 0 have been masked\n",
      "  plt.contourf(X, Y, Ti, locator=ticker.LogLocator(), cmap=cm.PuBu_r)\n"
     ]
    },
    {
     "data": {
      "text/plain": "<Figure size 432x288 with 1 Axes>",
      "image/png": "[encoded data removed]"
     },
     "metadata": {
      "needs_background": "light"
     },
     "output_type": "display_data"
    }
   ],
   "source": [
    "Ti = scipy.interpolate.griddata( (massarray, dipolearray), dailyratearray, (X, Y), method='cubic')\n",
    "plt.contourf(X, Y, Ti, locator=ticker.LogLocator(), cmap=cm.PuBu_r)\n",
    "plt.yscale('log')\n",
    "plt.xscale('log')\n",
    "plt.title(\"Contour Plot: Expected Number of Events in 24 hours | Mass and $d_{n}$ \")\n",
    "plt.ylabel('Dipole Coupling Strength ($log_{10}$)')\n",
    "plt.xlabel('Mass (kEV $log_{10}$ )')\n",
    "plt.tight_layout()\n",
    "plt.show()"
   ],
   "metadata": {
    "collapsed": false,
    "pycharm": {
     "name": "#%%\n"
    }
   }
  }
 ],
 "metadata": {
  "kernelspec": {
   "display_name": "Python 3",
   "language": "python",
   "name": "python3"
  },
  "language_info": {
   "codemirror_mode": {
    "name": "ipython",
    "version": 2
   },
   "file_extension": ".py",
   "mimetype": "text/x-python",
   "name": "python",
   "nbconvert_exporter": "python",
   "pygments_lexer": "ipython2",
   "version": "2.7.6"
  }
 },
 "nbformat": 4,
 "nbformat_minor": 0
}